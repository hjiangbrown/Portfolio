{
 "cells": [
  {
   "cell_type": "markdown",
   "metadata": {},
   "source": [
    "## Problem set 7\n",
    "\n",
    "**Problem 0** (-2 points for every missing green OK sign. If you don't run the cell below, that's -14 points.)\n",
    "\n",
    "Make sure you are in the DATA1030 environment."
   ]
  },
  {
   "cell_type": "code",
   "execution_count": 1,
   "metadata": {},
   "outputs": [
    {
     "name": "stdout",
     "output_type": "stream",
     "text": [
      "\u001b[42m[ OK ]\u001b[0m Python version is 3.10.5\n",
      "\n",
      "\u001b[42m[ OK ]\u001b[0m numpy version 1.22.4 is installed.\n",
      "\u001b[42m[ OK ]\u001b[0m matplotlib version 3.5.2 is installed.\n",
      "\u001b[42m[ OK ]\u001b[0m sklearn version 1.1.1 is installed.\n",
      "\u001b[42m[ OK ]\u001b[0m pandas version 1.4.2 is installed.\n"
     ]
    },
    {
     "name": "stderr",
     "output_type": "stream",
     "text": [
      "/Users/henryjiang/opt/anaconda3/envs/data1030/lib/python3.10/site-packages/xgboost/compat.py:36: FutureWarning: pandas.Int64Index is deprecated and will be removed from pandas in a future version. Use pandas.Index with the appropriate dtype instead.\n",
      "  from pandas import MultiIndex, Int64Index\n"
     ]
    },
    {
     "name": "stdout",
     "output_type": "stream",
     "text": [
      "\u001b[42m[ OK ]\u001b[0m xgboost version 1.5.1 is installed.\n",
      "\u001b[42m[ OK ]\u001b[0m shap version 0.40.0 is installed.\n"
     ]
    }
   ],
   "source": [
    "from __future__ import print_function\n",
    "from packaging.version import parse as Version\n",
    "from platform import python_version\n",
    "\n",
    "OK = '\\x1b[42m[ OK ]\\x1b[0m'\n",
    "FAIL = \"\\x1b[41m[FAIL]\\x1b[0m\"\n",
    "\n",
    "try:\n",
    "    import importlib\n",
    "except ImportError:\n",
    "    print(FAIL, \"Python version 3.10 is required,\"\n",
    "                \" but %s is installed.\" % sys.version)\n",
    "\n",
    "def import_version(pkg, min_ver, fail_msg=\"\"):\n",
    "    mod = None\n",
    "    try:\n",
    "        mod = importlib.import_module(pkg)\n",
    "        if pkg in {'PIL'}:\n",
    "            ver = mod.VERSION\n",
    "        else:\n",
    "            ver = mod.__version__\n",
    "        if Version(ver) == Version(min_ver):\n",
    "            print(OK, \"%s version %s is installed.\"\n",
    "                  % (lib, min_ver))\n",
    "        else:\n",
    "            print(FAIL, \"%s version %s is required, but %s installed.\"\n",
    "                  % (lib, min_ver, ver))    \n",
    "    except ImportError:\n",
    "        print(FAIL, '%s not installed. %s' % (pkg, fail_msg))\n",
    "    return mod\n",
    "\n",
    "\n",
    "# first check the python version\n",
    "pyversion = Version(python_version())\n",
    "\n",
    "if pyversion >= Version(\"3.10\"):\n",
    "    print(OK, \"Python version is %s\" % pyversion)\n",
    "elif pyversion < Version(\"3.10\"):\n",
    "    print(FAIL, \"Python version 3.10 is required,\"\n",
    "                \" but %s is installed.\" % pyversion)\n",
    "else:\n",
    "    print(FAIL, \"Unknown Python version: %s\" % pyversion)\n",
    "\n",
    "    \n",
    "print()\n",
    "requirements = {'numpy': \"1.22.4\", 'matplotlib': \"3.5.2\",'sklearn': \"1.1.1\", \n",
    "                'pandas': \"1.4.2\",'xgboost': \"1.5.1\", 'shap': \"0.40.0\"}\n",
    "\n",
    "# now the dependencies\n",
    "for lib, required_version in list(requirements.items()):\n",
    "    import_version(lib, required_version)"
   ]
  },
  {
   "cell_type": "markdown",
   "metadata": {},
   "source": [
    "**Problem 1**\n",
    "\n",
    "We will investigate the importance of preprocessing your dataset in this exercise. You will work with the unprocessed diabetes dataset in problem 1a, and you will preprocess it in 1b. You'll train a regression model in both problems and you'll compare the feature coefficients. This exercise is a preparation for one of the last topics we will cover in class: interpretability.\n",
    "\n",
    "The coefficients of a linear model (the $w$s) can be used to measure the importance of features if and only if all features have the same mean and standard deviation (even the one-hot encoded features!). Here is why:\n",
    "\n",
    "The feature coefficients are determined by two things:\n",
    "- the importance of the feautre\n",
    "    - more important features have larger $w$s\n",
    "- the order of magnitude of the feature relative to the target variable\n",
    "    - if a feature tends to be orders of magnitudes larger than the target variable, the feature's weight will be small in order to bring the feature to the same order of magnitude as the target variable \n",
    "    - similarly, if a feature tends to be orders of magnitudes smaller than the target variable, the feature's weight will be large in order to bring the feature to the same order of magnitude as the target variable \n",
    "\n",
    "This is an ambiguity because a feature could have a large $w$ because either it is important and/or because the feature values tend to be much smaller than the target variable.\n",
    "\n",
    "The only way to remove this ambiguity is to standardize all features. If all features have the same mean and the same standard deviation (most commonly 0 mean and 1 standard deviation when you use the StandardScaler), all features have the same order of magnitudes. Then the feature coefficient is purely determined by the importance of the feature and it can be used to rank features based on how important they are.\n"
   ]
  },
  {
   "cell_type": "markdown",
   "metadata": {},
   "source": [
    "**Problem 1a** (10 points)\n",
    "\n",
    "First, read in the dataset into a pandas dataframe using the tab delimited file linked at [this page](https://www4.stat.ncsu.edu/~boos/var.select/diabetes.html). Loop through 10 different random states. Split the dataset into training and test sets (70-30 ratios). We won't tune the regularization parameter, that's why we don't need a validation set for this exercise. Do not preprocess the sets. Train a linear regression model with Ridge regularization with alpha = 1. Use RMSE as your evaluation metric and print out the mean and standard deviation of the training and test scores. For each random state, save the test score and the model's coefficients for each feature.\n",
    "\n",
    "Once you loop through the 10 random states, prepare one plot which shows the mean and standard deviation of each feature's coefficient. Make sure to have proper x and y ticks and labels.\n",
    "\n",
    "Hint: use plt.errorbar() or something similar for the figure."
   ]
  },
  {
   "cell_type": "code",
   "execution_count": 2,
   "metadata": {},
   "outputs": [
    {
     "data": {
      "text/html": [
       "<div>\n",
       "<style scoped>\n",
       "    .dataframe tbody tr th:only-of-type {\n",
       "        vertical-align: middle;\n",
       "    }\n",
       "\n",
       "    .dataframe tbody tr th {\n",
       "        vertical-align: top;\n",
       "    }\n",
       "\n",
       "    .dataframe thead th {\n",
       "        text-align: right;\n",
       "    }\n",
       "</style>\n",
       "<table border=\"1\" class=\"dataframe\">\n",
       "  <thead>\n",
       "    <tr style=\"text-align: right;\">\n",
       "      <th></th>\n",
       "      <th>AGE</th>\n",
       "      <th>SEX</th>\n",
       "      <th>BMI</th>\n",
       "      <th>BP</th>\n",
       "      <th>S1</th>\n",
       "      <th>S2</th>\n",
       "      <th>S3</th>\n",
       "      <th>S4</th>\n",
       "      <th>S5</th>\n",
       "      <th>S6</th>\n",
       "      <th>Y</th>\n",
       "    </tr>\n",
       "  </thead>\n",
       "  <tbody>\n",
       "    <tr>\n",
       "      <th>0</th>\n",
       "      <td>59</td>\n",
       "      <td>2</td>\n",
       "      <td>32.1</td>\n",
       "      <td>101.00</td>\n",
       "      <td>157</td>\n",
       "      <td>93.2</td>\n",
       "      <td>38.0</td>\n",
       "      <td>4.00</td>\n",
       "      <td>4.8598</td>\n",
       "      <td>87</td>\n",
       "      <td>151</td>\n",
       "    </tr>\n",
       "    <tr>\n",
       "      <th>1</th>\n",
       "      <td>48</td>\n",
       "      <td>1</td>\n",
       "      <td>21.6</td>\n",
       "      <td>87.00</td>\n",
       "      <td>183</td>\n",
       "      <td>103.2</td>\n",
       "      <td>70.0</td>\n",
       "      <td>3.00</td>\n",
       "      <td>3.8918</td>\n",
       "      <td>69</td>\n",
       "      <td>75</td>\n",
       "    </tr>\n",
       "    <tr>\n",
       "      <th>2</th>\n",
       "      <td>72</td>\n",
       "      <td>2</td>\n",
       "      <td>30.5</td>\n",
       "      <td>93.00</td>\n",
       "      <td>156</td>\n",
       "      <td>93.6</td>\n",
       "      <td>41.0</td>\n",
       "      <td>4.00</td>\n",
       "      <td>4.6728</td>\n",
       "      <td>85</td>\n",
       "      <td>141</td>\n",
       "    </tr>\n",
       "    <tr>\n",
       "      <th>3</th>\n",
       "      <td>24</td>\n",
       "      <td>1</td>\n",
       "      <td>25.3</td>\n",
       "      <td>84.00</td>\n",
       "      <td>198</td>\n",
       "      <td>131.4</td>\n",
       "      <td>40.0</td>\n",
       "      <td>5.00</td>\n",
       "      <td>4.8903</td>\n",
       "      <td>89</td>\n",
       "      <td>206</td>\n",
       "    </tr>\n",
       "    <tr>\n",
       "      <th>4</th>\n",
       "      <td>50</td>\n",
       "      <td>1</td>\n",
       "      <td>23.0</td>\n",
       "      <td>101.00</td>\n",
       "      <td>192</td>\n",
       "      <td>125.4</td>\n",
       "      <td>52.0</td>\n",
       "      <td>4.00</td>\n",
       "      <td>4.2905</td>\n",
       "      <td>80</td>\n",
       "      <td>135</td>\n",
       "    </tr>\n",
       "    <tr>\n",
       "      <th>...</th>\n",
       "      <td>...</td>\n",
       "      <td>...</td>\n",
       "      <td>...</td>\n",
       "      <td>...</td>\n",
       "      <td>...</td>\n",
       "      <td>...</td>\n",
       "      <td>...</td>\n",
       "      <td>...</td>\n",
       "      <td>...</td>\n",
       "      <td>...</td>\n",
       "      <td>...</td>\n",
       "    </tr>\n",
       "    <tr>\n",
       "      <th>437</th>\n",
       "      <td>60</td>\n",
       "      <td>2</td>\n",
       "      <td>28.2</td>\n",
       "      <td>112.00</td>\n",
       "      <td>185</td>\n",
       "      <td>113.8</td>\n",
       "      <td>42.0</td>\n",
       "      <td>4.00</td>\n",
       "      <td>4.9836</td>\n",
       "      <td>93</td>\n",
       "      <td>178</td>\n",
       "    </tr>\n",
       "    <tr>\n",
       "      <th>438</th>\n",
       "      <td>47</td>\n",
       "      <td>2</td>\n",
       "      <td>24.9</td>\n",
       "      <td>75.00</td>\n",
       "      <td>225</td>\n",
       "      <td>166.0</td>\n",
       "      <td>42.0</td>\n",
       "      <td>5.00</td>\n",
       "      <td>4.4427</td>\n",
       "      <td>102</td>\n",
       "      <td>104</td>\n",
       "    </tr>\n",
       "    <tr>\n",
       "      <th>439</th>\n",
       "      <td>60</td>\n",
       "      <td>2</td>\n",
       "      <td>24.9</td>\n",
       "      <td>99.67</td>\n",
       "      <td>162</td>\n",
       "      <td>106.6</td>\n",
       "      <td>43.0</td>\n",
       "      <td>3.77</td>\n",
       "      <td>4.1271</td>\n",
       "      <td>95</td>\n",
       "      <td>132</td>\n",
       "    </tr>\n",
       "    <tr>\n",
       "      <th>440</th>\n",
       "      <td>36</td>\n",
       "      <td>1</td>\n",
       "      <td>30.0</td>\n",
       "      <td>95.00</td>\n",
       "      <td>201</td>\n",
       "      <td>125.2</td>\n",
       "      <td>42.0</td>\n",
       "      <td>4.79</td>\n",
       "      <td>5.1299</td>\n",
       "      <td>85</td>\n",
       "      <td>220</td>\n",
       "    </tr>\n",
       "    <tr>\n",
       "      <th>441</th>\n",
       "      <td>36</td>\n",
       "      <td>1</td>\n",
       "      <td>19.6</td>\n",
       "      <td>71.00</td>\n",
       "      <td>250</td>\n",
       "      <td>133.2</td>\n",
       "      <td>97.0</td>\n",
       "      <td>3.00</td>\n",
       "      <td>4.5951</td>\n",
       "      <td>92</td>\n",
       "      <td>57</td>\n",
       "    </tr>\n",
       "  </tbody>\n",
       "</table>\n",
       "<p>442 rows × 11 columns</p>\n",
       "</div>"
      ],
      "text/plain": [
       "     AGE  SEX   BMI      BP   S1     S2    S3    S4      S5   S6    Y\n",
       "0     59    2  32.1  101.00  157   93.2  38.0  4.00  4.8598   87  151\n",
       "1     48    1  21.6   87.00  183  103.2  70.0  3.00  3.8918   69   75\n",
       "2     72    2  30.5   93.00  156   93.6  41.0  4.00  4.6728   85  141\n",
       "3     24    1  25.3   84.00  198  131.4  40.0  5.00  4.8903   89  206\n",
       "4     50    1  23.0  101.00  192  125.4  52.0  4.00  4.2905   80  135\n",
       "..   ...  ...   ...     ...  ...    ...   ...   ...     ...  ...  ...\n",
       "437   60    2  28.2  112.00  185  113.8  42.0  4.00  4.9836   93  178\n",
       "438   47    2  24.9   75.00  225  166.0  42.0  5.00  4.4427  102  104\n",
       "439   60    2  24.9   99.67  162  106.6  43.0  3.77  4.1271   95  132\n",
       "440   36    1  30.0   95.00  201  125.2  42.0  4.79  5.1299   85  220\n",
       "441   36    1  19.6   71.00  250  133.2  97.0  3.00  4.5951   92   57\n",
       "\n",
       "[442 rows x 11 columns]"
      ]
     },
     "execution_count": 2,
     "metadata": {},
     "output_type": "execute_result"
    }
   ],
   "source": [
    "import pandas as pd\n",
    "import random\n",
    "\n",
    "url ='https://www4.stat.ncsu.edu/~boos/var.select/diabetes.tab.txt'\n",
    "df_dia = pd.read_csv(url, skiprows=0, header=0, sep='\\s+')\n",
    "df_dia"
   ]
  },
  {
   "cell_type": "code",
   "execution_count": 3,
   "metadata": {},
   "outputs": [],
   "source": [
    "#rename the columns to something more descriptive\n",
    "#\"Ten baseline variables, age, sex, body mass index, average blood pressure, and six blood serum measurements were obtained for each of n = 442 diabetes patients, as well as the response of interest, a quantitative measure of disease progression one year after baseline.\"\n",
    "df_dia=df_dia.rename(columns={'S1':'BS1', 'S2':'BS2', 'S3':'BS3', 'S4':'BS4', 'S5':'BS5', 'S6':'BS6', 'Y':'1yr_prog'})\n"
   ]
  },
  {
   "cell_type": "code",
   "execution_count": 4,
   "metadata": {},
   "outputs": [
    {
     "data": {
      "text/html": [
       "<div>\n",
       "<style scoped>\n",
       "    .dataframe tbody tr th:only-of-type {\n",
       "        vertical-align: middle;\n",
       "    }\n",
       "\n",
       "    .dataframe tbody tr th {\n",
       "        vertical-align: top;\n",
       "    }\n",
       "\n",
       "    .dataframe thead th {\n",
       "        text-align: right;\n",
       "    }\n",
       "</style>\n",
       "<table border=\"1\" class=\"dataframe\">\n",
       "  <thead>\n",
       "    <tr style=\"text-align: right;\">\n",
       "      <th></th>\n",
       "      <th>AGE</th>\n",
       "      <th>SEX</th>\n",
       "      <th>BMI</th>\n",
       "      <th>BP</th>\n",
       "      <th>BS1</th>\n",
       "      <th>BS2</th>\n",
       "      <th>BS3</th>\n",
       "      <th>BS4</th>\n",
       "      <th>BS5</th>\n",
       "      <th>BS6</th>\n",
       "      <th>1yr_prog</th>\n",
       "    </tr>\n",
       "  </thead>\n",
       "  <tbody>\n",
       "    <tr>\n",
       "      <th>0</th>\n",
       "      <td>59</td>\n",
       "      <td>2</td>\n",
       "      <td>32.1</td>\n",
       "      <td>101.0</td>\n",
       "      <td>157</td>\n",
       "      <td>93.2</td>\n",
       "      <td>38.0</td>\n",
       "      <td>4.0</td>\n",
       "      <td>4.8598</td>\n",
       "      <td>87</td>\n",
       "      <td>151</td>\n",
       "    </tr>\n",
       "    <tr>\n",
       "      <th>1</th>\n",
       "      <td>48</td>\n",
       "      <td>1</td>\n",
       "      <td>21.6</td>\n",
       "      <td>87.0</td>\n",
       "      <td>183</td>\n",
       "      <td>103.2</td>\n",
       "      <td>70.0</td>\n",
       "      <td>3.0</td>\n",
       "      <td>3.8918</td>\n",
       "      <td>69</td>\n",
       "      <td>75</td>\n",
       "    </tr>\n",
       "    <tr>\n",
       "      <th>2</th>\n",
       "      <td>72</td>\n",
       "      <td>2</td>\n",
       "      <td>30.5</td>\n",
       "      <td>93.0</td>\n",
       "      <td>156</td>\n",
       "      <td>93.6</td>\n",
       "      <td>41.0</td>\n",
       "      <td>4.0</td>\n",
       "      <td>4.6728</td>\n",
       "      <td>85</td>\n",
       "      <td>141</td>\n",
       "    </tr>\n",
       "    <tr>\n",
       "      <th>3</th>\n",
       "      <td>24</td>\n",
       "      <td>1</td>\n",
       "      <td>25.3</td>\n",
       "      <td>84.0</td>\n",
       "      <td>198</td>\n",
       "      <td>131.4</td>\n",
       "      <td>40.0</td>\n",
       "      <td>5.0</td>\n",
       "      <td>4.8903</td>\n",
       "      <td>89</td>\n",
       "      <td>206</td>\n",
       "    </tr>\n",
       "    <tr>\n",
       "      <th>4</th>\n",
       "      <td>50</td>\n",
       "      <td>1</td>\n",
       "      <td>23.0</td>\n",
       "      <td>101.0</td>\n",
       "      <td>192</td>\n",
       "      <td>125.4</td>\n",
       "      <td>52.0</td>\n",
       "      <td>4.0</td>\n",
       "      <td>4.2905</td>\n",
       "      <td>80</td>\n",
       "      <td>135</td>\n",
       "    </tr>\n",
       "  </tbody>\n",
       "</table>\n",
       "</div>"
      ],
      "text/plain": [
       "   AGE  SEX   BMI     BP  BS1    BS2   BS3  BS4     BS5  BS6  1yr_prog\n",
       "0   59    2  32.1  101.0  157   93.2  38.0  4.0  4.8598   87       151\n",
       "1   48    1  21.6   87.0  183  103.2  70.0  3.0  3.8918   69        75\n",
       "2   72    2  30.5   93.0  156   93.6  41.0  4.0  4.6728   85       141\n",
       "3   24    1  25.3   84.0  198  131.4  40.0  5.0  4.8903   89       206\n",
       "4   50    1  23.0  101.0  192  125.4  52.0  4.0  4.2905   80       135"
      ]
     },
     "execution_count": 4,
     "metadata": {},
     "output_type": "execute_result"
    }
   ],
   "source": [
    "df_dia.head()"
   ]
  },
  {
   "cell_type": "code",
   "execution_count": 5,
   "metadata": {},
   "outputs": [
    {
     "name": "stdout",
     "output_type": "stream",
     "text": [
      "the training RMSE mean and standard deviation is:53.56305204089378 and 1.0137073876615275\n",
      "the testing RMSE mean and standard deviation is:51.51342592755054 and 2.6646697827343946\n"
     ]
    }
   ],
   "source": [
    "from sklearn.linear_model import Ridge\n",
    "from sklearn.metrics import mean_squared_error\n",
    "from sklearn.model_selection import train_test_split \n",
    "import math\n",
    "import statistics\n",
    "\n",
    "y = df_dia['1yr_prog'] # target variable\n",
    "X = df_dia.loc[:, df_dia.columns != '1yr_prog'] # all other columns are features\n",
    "\n",
    "# arrays to save train and test MSE scores\n",
    "train_RMSE = []\n",
    "test_RMSE = []\n",
    "coef_list_train=[]\n",
    "coef_list_test=[]\n",
    "\n",
    "for i in range(10):\n",
    "    random_state=i\n",
    "    X_train, X_test, y_train, y_test = train_test_split(X,y,train_size = 0.7,random_state = random_state)\n",
    "    \n",
    "    lin_reg = Ridge(alpha=1.0) # define model\n",
    "    lin_reg.fit(X_train, y_train)\n",
    "    \n",
    "    #train\n",
    "    coef_list_train.append(lin_reg.coef_)\n",
    "    y_train_pred=lin_reg.predict(X_train)  \n",
    "    rmse=math.sqrt(mean_squared_error(y_train,y_train_pred)) #get mean squared error\n",
    "    train_RMSE.append(rmse)\n",
    "    \n",
    "    #test\n",
    "    lin_reg.fit(X_test, y_test)\n",
    "    coef_list_test.append(lin_reg.coef_)\n",
    "    y_test_pred=lin_reg.predict(X_test)\n",
    "    rmse=math.sqrt(mean_squared_error(y_test,y_test_pred)) #get mean squared error\n",
    "    test_RMSE.append(rmse)\n",
    "    \n",
    "std_train_RMSE=statistics.stdev(train_RMSE)\n",
    "train_RMSE_mean=statistics.mean(train_RMSE)\n",
    "\n",
    "std_test_RMSE=statistics.stdev(test_RMSE)\n",
    "test_RMSE_mean=statistics.mean(test_RMSE)\n",
    "    \n",
    "print(f\"the training RMSE mean and standard deviation is:{train_RMSE_mean} and {std_train_RMSE}\")\n",
    "\n",
    "print(f\"the testing RMSE mean and standard deviation is:{test_RMSE_mean} and {std_test_RMSE}\")"
   ]
  },
  {
   "cell_type": "code",
   "execution_count": 6,
   "metadata": {},
   "outputs": [],
   "source": [
    "df_train_coef=pd.DataFrame(coef_list_train, columns=['AGE','SEX','BMI','BP','BS1','BS2','BS3','BS4','BS5','BS6'])\n",
    "\n",
    "df_test_coef=pd.DataFrame(coef_list_test, columns=['AGE','SEX','BMI','BP','BS1','BS2','BS3','BS4','BS5','BS6'])\n",
    "\n",
    "df_train_sum=df_train_coef.describe()\n",
    "\n",
    "df_train_sum=df_train_sum.iloc[1:3]\n",
    "\n",
    "df_test_sum=df_test_coef.describe()\n",
    "\n",
    "df_test_sum=df_test_sum.iloc[1:3]\n",
    "\n"
   ]
  },
  {
   "cell_type": "code",
   "execution_count": 7,
   "metadata": {},
   "outputs": [
    {
     "data": {
      "text/plain": [
       "Text(0, 0.5, 'Coefficient value')"
      ]
     },
     "execution_count": 7,
     "metadata": {},
     "output_type": "execute_result"
    },
    {
     "data": {
      "image/png": "[encoded data removed]",
      "text/plain": [
       "<Figure size 640x480 with 1 Axes>"
      ]
     },
     "metadata": {},
     "output_type": "display_data"
    }
   ],
   "source": [
    "# importing matplotlib\n",
    "import matplotlib.pyplot as plt\n",
    "\n",
    "line_train=plt.errorbar(x=df_train_sum.columns, y=df_train_sum.iloc[0],\n",
    "             yerr = df_train_sum.iloc[1],\n",
    "             fmt ='o')\n",
    "\n",
    "\n",
    "line_test=plt.errorbar(x=df_test_sum.columns, y=df_test_sum.iloc[0],\n",
    "             yerr = df_test_sum.iloc[1],\n",
    "             fmt ='o')\n",
    "plt.legend(labels=['line_train', 'line_test'])\n",
    "plt.ylabel('Coefficient value')"
   ]
  },
  {
   "cell_type": "markdown",
   "metadata": {},
   "source": [
    "**Problem 1b** (10 points)\n",
    "\n",
    "Repeat what you did in 1a but this time preprocess the sets with the standard scaler.\n",
    "\n",
    "Notice how the coefficients change as a result of preprocessing. \n",
    "\n",
    "Answer the following questions:\n",
    "\n",
    "Q1: Do you see a statistically significant change in the test score?\n",
    "\n",
    "Q2: How would you order the features based on the coefficients for feature importance? Explain your answer in a few sentences.\n",
    "\n",
    "Q3: Print out names of the top 3 most important features!"
   ]
  },
  {
   "cell_type": "code",
   "execution_count": 8,
   "metadata": {},
   "outputs": [],
   "source": [
    "#import scaler\n",
    "from sklearn.preprocessing import StandardScaler\n",
    "from sklearn.compose import ColumnTransformer\n",
    "from sklearn.pipeline import Pipeline\n",
    "# arrays to save train and test MSE scores\n",
    "train_RMSE = []\n",
    "proc_test_RMSE = []\n",
    "coef_list_train=[]\n",
    "coef_list_test=[]\n",
    "\n",
    "for i in range(10):\n",
    "    random_state=i\n",
    "    X_train, X_test, y_train, y_test = train_test_split(X,y,train_size = 0.7,random_state = random_state)\n",
    "    \n",
    "    #standard scale\n",
    "    X_ftrs=list(X_train.columns)\n",
    "    \n",
    "    # collect all the encoders\n",
    "    preprocessor = ColumnTransformer(\n",
    "    transformers=[\n",
    "        ('std', StandardScaler(), X_ftrs)])\n",
    "\n",
    "    clf = Pipeline(steps=[('preprocessor', preprocessor)]) \n",
    "    \n",
    "    X_train= clf.fit_transform(X_train)\n",
    "    X_test= clf.fit_transform(X_test)\n",
    "    \n",
    "    \n",
    "    lin_reg = Ridge(alpha=1.0) # define model\n",
    "    lin_reg.fit(X_train, y_train)\n",
    "    \n",
    "    #train\n",
    "    coef_list_train.append(lin_reg.coef_)\n",
    "    y_train_pred=lin_reg.predict(X_train)  \n",
    "    rmse=math.sqrt(mean_squared_error(y_train,y_train_pred)) #get mean squared error\n",
    "    train_RMSE.append(rmse)\n",
    "    \n",
    "    #test\n",
    "    lin_reg.fit(X_test, y_test)\n",
    "    coef_list_test.append(lin_reg.coef_)\n",
    "    y_test_pred=lin_reg.predict(X_test)\n",
    "    rmse=math.sqrt(mean_squared_error(y_test,y_test_pred)) #get mean squared error\n",
    "    proc_test_RMSE.append(rmse)\n",
    "    \n",
    "std_train_RMSE=statistics.stdev(train_RMSE)\n",
    "train_RMSE_mean=statistics.mean(train_RMSE)\n",
    "\n",
    "proc_std_test_RMSE=statistics.stdev(proc_test_RMSE)\n",
    "proc_test_RMSE_mean=statistics.mean(proc_test_RMSE)"
   ]
  },
  {
   "cell_type": "code",
   "execution_count": 9,
   "metadata": {},
   "outputs": [],
   "source": [
    "df_train_coef=pd.DataFrame(coef_list_train, columns=['AGE','SEX','BMI','BP','BS1','BS2','BS3','BS4','BS5','BS6'])\n",
    "\n",
    "df_test_coef=pd.DataFrame(coef_list_test, columns=['AGE','SEX','BMI','BP','BS1','BS2','BS3','BS4','BS5','BS6'])\n",
    "\n",
    "df_train_sum=df_train_coef.describe()\n",
    "\n",
    "df_train_sum=df_train_sum.iloc[1:3]\n",
    "\n",
    "df_test_sum=df_test_coef.describe()\n",
    "\n",
    "df_test_sum=df_test_sum.iloc[1:3]"
   ]
  },
  {
   "cell_type": "code",
   "execution_count": 10,
   "metadata": {},
   "outputs": [
    {
     "data": {
      "text/plain": [
       "Text(0, 0.5, 'Coefficient value')"
      ]
     },
     "execution_count": 10,
     "metadata": {},
     "output_type": "execute_result"
    },
    {
     "data": {
      "image/png": "[encoded data removed]",
      "text/plain": [
       "<Figure size 640x480 with 1 Axes>"
      ]
     },
     "metadata": {},
     "output_type": "display_data"
    }
   ],
   "source": [
    "line_train2=plt.errorbar(x=df_train_sum.columns, y=df_train_sum.iloc[0],\n",
    "             yerr = df_train_sum.iloc[1],\n",
    "             fmt ='o')\n",
    "\n",
    "\n",
    "line_test2=plt.errorbar(x=df_test_sum.columns, y=df_test_sum.iloc[0],\n",
    "             yerr = df_test_sum.iloc[1],\n",
    "             fmt ='o')\n",
    "plt.legend(labels=['line_train2', 'line_test2'])\n",
    "plt.ylabel('Coefficient value')"
   ]
  },
  {
   "cell_type": "code",
   "execution_count": 12,
   "metadata": {},
   "outputs": [
    {
     "name": "stdout",
     "output_type": "stream",
     "text": [
      "0.00556413384035892\n"
     ]
    }
   ],
   "source": [
    "#Q1: Do you see a statistically significant change in the test score?\n",
    "print(proc_test_RMSE_mean-test_RMSE_mean)\n",
    "#The difference of mean 0.00556413384035892 shows that these two are not ver different given their standard deviations.\n",
    "\n",
    "#Q2: How would you order the features based on the coefficients for feature importance? Explain your answer in a few sentences.\n",
    "\n",
    "#I would pick out the features with high weight and low std. In addition I would look at how close the points are between train and test.\n",
    "#if they are close, I think it would be a good predicting feature. A high standard deviation could mean that it was helpful by chance.\n"
   ]
  },
  {
   "cell_type": "code",
   "execution_count": 13,
   "metadata": {},
   "outputs": [
    {
     "name": "stdout",
     "output_type": "stream",
     "text": [
      "BMI, BP, and BS5\n"
     ]
    }
   ],
   "source": [
    "\n",
    "print('BMI, BP, and BS5')\n",
    "#The most important features are BMI, BS5 and BP. These have the highest weight with the lowest std."
   ]
  },
  {
   "cell_type": "markdown",
   "metadata": {},
   "source": [
    "**Problem 2**\n",
    "\n",
    "In class we have seen both l1 (Lasso) and l2 (Ridge) regression. These are two basic ways to perform regularization. In the following problem, we will explore the **elastic net**, a third regularization technique that combines both l1 and l2 penalties. We will use this in a classification context. \n",
    "\n",
    "The basic idea of the elastic net is that the cost function in regression becomes\n",
    "\n",
    "$L(\\theta) = \\frac{1}{n}\\sum_{i=1}^{n}[(\\theta_0 + \\sum_{j=1}^{m} \\theta_j  x_{ij}- y_i)^2] + \\color{red}{ \\frac{\\alpha \\rho}{m} \\sum_{j=0}^{m}|\\theta_j|} + \\color{blue}{ \\frac{\\alpha (1-\\rho)}{m} \\sum_{j=0}^{m} \\theta_j^2}$,\n",
    "\n",
    "and the cost function in classification is\n",
    "\n",
    "$L(\\theta) = - \\frac{1}{N}\\sum_{i=1}^{n} [y_i\\ln(\\frac{1}{1+e^{-\\theta_0 + \\sum_{j=1}^{m} \\theta_j  x_{ij}}}) + (1-y_i)\\ln(1-\\frac{1}{1+e^{-\\theta_0 + \\sum_{j=1}^{m} \\theta_j  x_{ij}}}))] + \\color{red}{ \\frac{\\alpha \\rho}{m} \\sum_{j=0}^{m}|\\theta_j|} + \\color{blue}{ \\frac{\\alpha (1-\\rho)}{m} \\sum_{j=0}^{m} \\theta_j^2}$,\n",
    "\n",
    "\n",
    "where $\\alpha$ is the regularization parameter and $\\rho$ is the l1 ratio (how much weight we assign to the l1 term over the l2 term in the cost function). Basically, an elastic net uses the weighted sum of the l1 and l2 regularization terms. The weight of the l1 term is $\\rho$ and the weight of the l2 term is $(1-\\rho)$ where $\\rho$ is between 0 and 1.\n",
    "\n",
    "You can read more about the elastic net [here](https://scikit-learn.org/stable/modules/linear_model.html#elastic-net).\n",
    "\n",
    "Note that there are a large number of regularization techniques available in sklearn, the complete list of linear models are described [here](https://scikit-learn.org/stable/modules/linear_model.html).\n"
   ]
  },
  {
   "cell_type": "markdown",
   "metadata": {},
   "source": [
    "**Problem 2a** (3 points)\n",
    "\n",
    "Load the training and validation sets from train.csv and val.csv from the `data` folder. \n",
    "\n",
    "Run a logistic regression model without regularization on the data and print the accuracy score of the validation set. Use the 'saga' solver. "
   ]
  },
  {
   "cell_type": "code",
   "execution_count": 14,
   "metadata": {},
   "outputs": [],
   "source": [
    "train_df=pd.read_csv('data/train.csv')\n",
    "val_df=pd.read_csv('data/val.csv')\n",
    "\n",
    "X_train=train_df.loc[:, train_df.columns !='y']\n",
    "y_train=train_df['y']\n",
    "\n",
    "X_val=val_df.loc[:, train_df.columns !='y']\n",
    "y_val=val_df['y']"
   ]
  },
  {
   "cell_type": "code",
   "execution_count": 15,
   "metadata": {},
   "outputs": [],
   "source": [
    "from sklearn.linear_model import LogisticRegression\n",
    "from sklearn.metrics import accuracy_score\n",
    "logisticRegr = LogisticRegression(solver='saga')\n",
    "logisticRegr.fit(X_train, y_train)\n",
    "predictions = logisticRegr.predict(X_val)\n"
   ]
  },
  {
   "cell_type": "code",
   "execution_count": 16,
   "metadata": {},
   "outputs": [
    {
     "name": "stdout",
     "output_type": "stream",
     "text": [
      "0.708\n"
     ]
    }
   ],
   "source": [
    "# Use score method to get accuracy of model\n",
    "score = logisticRegr.score(X_val, y_val)\n",
    "print(score)"
   ]
  },
  {
   "cell_type": "markdown",
   "metadata": {},
   "source": [
    "**Problem 2b** (7 points)\n",
    "\n",
    "Perform l1 regularization on the data. \n",
    "\n",
    "The value of the alpha should contain 21 uniformly spaced values in log from 1e-2 to 1e2. \n",
    "\n",
    "Again, use the 'saga' solver and if you see a converge warning, fix it without ignoring the warning. \n",
    "\n",
    "Plot the train and validation accuracy scores. \n",
    "\n",
    "Print the best validation accuracy score and the corresponding alpha value.\n"
   ]
  },
  {
   "cell_type": "code",
   "execution_count": 17,
   "metadata": {},
   "outputs": [
    {
     "name": "stdout",
     "output_type": "stream",
     "text": [
      "[1.00000000e-02 1.58489319e-02 2.51188643e-02 3.98107171e-02\n",
      " 6.30957344e-02 1.00000000e-01 1.58489319e-01 2.51188643e-01\n",
      " 3.98107171e-01 6.30957344e-01 1.00000000e+00 1.58489319e+00\n",
      " 2.51188643e+00 3.98107171e+00 6.30957344e+00 1.00000000e+01\n",
      " 1.58489319e+01 2.51188643e+01 3.98107171e+01 6.30957344e+01\n",
      " 1.00000000e+02]\n"
     ]
    }
   ],
   "source": [
    "from sklearn.linear_model import ElasticNet\n",
    "import numpy as np\n",
    "from math import e\n",
    "alpha_list=np.logspace(-2, 2, 21)\n",
    "\n",
    "print(alpha_list)"
   ]
  },
  {
   "cell_type": "code",
   "execution_count": 18,
   "metadata": {},
   "outputs": [
    {
     "name": "stdout",
     "output_type": "stream",
     "text": [
      "the best score 0.724 is achieved at an alpha of 3.981071705534973\n"
     ]
    }
   ],
   "source": [
    "best_score=0\n",
    "best_alpha=0\n",
    "train_score=[]\n",
    "val_score=[]\n",
    "\n",
    "for a in alpha_list:\n",
    "    clf = LogisticRegression(penalty='l1', C=1/a, solver='saga',max_iter=9999)\n",
    "    clf.fit(X_train, y_train)\n",
    "    cur_score=clf.score(X_val, y_val)\n",
    "    cur_score_train=clf.score(X_train,y_train)\n",
    "    val_score.append(cur_score)\n",
    "    train_score.append(cur_score_train)\n",
    "    \n",
    "    if best_score<cur_score:\n",
    "        best_score=cur_score\n",
    "        best_alpha=a\n",
    "    \n",
    "print(f'the best score {best_score} is achieved at an alpha of {best_alpha}')\n",
    "    \n",
    "    \n",
    "    \n",
    "#     print(a)\n",
    "#     print('Training accuracy:', clf.score(X_train, y_train))\n",
    "#     print('Test accuracy:', clf.score(X_val, y_val))\n",
    "    \n",
    "    \n"
   ]
  },
  {
   "cell_type": "code",
   "execution_count": 19,
   "metadata": {},
   "outputs": [
    {
     "data": {
      "image/png": "[encoded data removed]",
      "text/plain": [
       "<Figure size 640x480 with 1 Axes>"
      ]
     },
     "metadata": {},
     "output_type": "display_data"
    }
   ],
   "source": [
    "\n",
    "# plot lines\n",
    "plt.plot(alpha_list, train_score, label = \"train_score\")\n",
    "plt.plot(alpha_list, val_score , label = \"val_score\")\n",
    "plt.legend()\n",
    "plt.xlabel('alpha')\n",
    "plt.xscale(\"log\") #logs x axis\n",
    "plt.ylabel('accuracy score')\n",
    "plt.suptitle('Training vs Validation score')\n",
    "plt.show()\n"
   ]
  },
  {
   "cell_type": "markdown",
   "metadata": {},
   "source": [
    "**Problem 2c** (1 point)\n",
    "\n",
    "Perform l2 regularization on the data. The alpha values and all the other instructions are the same as in 2b."
   ]
  },
  {
   "cell_type": "code",
   "execution_count": 20,
   "metadata": {},
   "outputs": [
    {
     "name": "stdout",
     "output_type": "stream",
     "text": [
      "the best score 0.72 is achieved at an alpha of 25.11886431509582\n"
     ]
    },
    {
     "data": {
      "image/png": "[encoded data removed]",
      "text/plain": [
       "<Figure size 640x480 with 1 Axes>"
      ]
     },
     "metadata": {},
     "output_type": "display_data"
    }
   ],
   "source": [
    "best_score=0\n",
    "best_alpha=0\n",
    "train_score=[]\n",
    "val_score=[]\n",
    "\n",
    "for a in alpha_list:\n",
    "    clf = LogisticRegression(penalty='l2', C=1/a, solver='saga',max_iter=9999)\n",
    "    clf.fit(X_train, y_train)\n",
    "    cur_score=clf.score(X_val, y_val)\n",
    "    cur_score_train=clf.score(X_train,y_train)\n",
    "    val_score.append(cur_score)\n",
    "    train_score.append(cur_score_train)\n",
    "    \n",
    "    \n",
    "    if best_score<cur_score:\n",
    "        best_score=cur_score\n",
    "        best_alpha=a\n",
    "    \n",
    "print(f'the best score {best_score} is achieved at an alpha of {best_alpha}')\n",
    "\n",
    "\n",
    "# plot lines\n",
    "plt.plot(alpha_list, train_score, label = \"train_score\")\n",
    "plt.plot(alpha_list, val_score , label = \"val_score\")\n",
    "plt.legend()\n",
    "plt.xlabel('alpha')\n",
    "plt.xscale(\"log\") #logs xaxis\n",
    "plt.ylabel('accuracy score')\n",
    "plt.suptitle('Training vs Validation score')\n",
    "plt.show()\n"
   ]
  },
  {
   "cell_type": "markdown",
   "metadata": {},
   "source": [
    "**Problem 2d** (10 points)\n",
    "\n",
    "Let's train an elastic net now. The elastic net has two parameters: alpha and rho (the l1 ratio). The l1 ratio should be linearly spaced between 0 and 1 with 21 values in between. Use the 'saga' solver. The reason we use the saga solver everywhere in Problem 2 is that it is the only solver in LogisticRegression that works with an elastic net. \n",
    "\n",
    "Calculate the train and validation accuracy scores for all combinations of alpha and rho. \n",
    "\n",
    "Print the best validation score and the corresponding alpha and rho values. \n",
    "\n",
    "Prepare heatmaps to show the train and validation scores. Make sure that the data range covered by the two heatmaps are the same so you can easily compare the two heatmaps and you can identify the high bias and high variance regions. Label the plot and add a colorbar. Make the x and y ticks look pretty. \n",
    "\n",
    "Which of the four approaches gave you the best validation score?"
   ]
  },
  {
   "cell_type": "code",
   "execution_count": 21,
   "metadata": {},
   "outputs": [
    {
     "name": "stdout",
     "output_type": "stream",
     "text": [
      "the best accuracy score for validation is 0.732, which is achieved at a rho of 0.2 and an alpha of 63.095734448019364\n"
     ]
    }
   ],
   "source": [
    "from sklearn.linear_model import ElasticNet\n",
    "rho_list=np.linspace(0,1,21)\n",
    "\n",
    "e_score_train=[]\n",
    "e_score_val=[]\n",
    "\n",
    "best_e_score=0\n",
    "best_e_alpha=0\n",
    "best_e_rho=0\n",
    "for r in rho_list:\n",
    "    for a in alpha_list:\n",
    "        model=LogisticRegression(penalty='elasticnet', C=1/a, solver='saga', l1_ratio=r, max_iter=9999)\n",
    "        model.fit(X_train,y_train)\n",
    "        trainscore=model.score(X_train,y_train)\n",
    "        valscore=model.score(X_val,y_val)\n",
    "        e_score_train.append(trainscore)\n",
    "        e_score_val.append(valscore)\n",
    "        if valscore>best_e_score:\n",
    "            best_e_score=valscore\n",
    "            best_e_alpha=a\n",
    "            best_e_rho=r\n",
    "\n",
    "print(f'the best accuracy score for validation is {best_e_score}, which is achieved at a rho of {best_e_rho} and an alpha of {best_e_alpha}')\n",
    "        \n",
    "        "
   ]
  },
  {
   "cell_type": "code",
   "execution_count": 22,
   "metadata": {},
   "outputs": [
    {
     "name": "stdout",
     "output_type": "stream",
     "text": [
      "21 21 441\n"
     ]
    }
   ],
   "source": [
    "#heat map for training\n",
    "# d_train={'rho':rho_list,'alpha':alpha_list,'score':e_score_train}\n",
    "# df_train=pd.DataFrame(d_train)\n",
    "# df_train.head()\n",
    "\n",
    "print(len(rho_list),len(alpha_list),len(e_score_train))"
   ]
  },
  {
   "cell_type": "code",
   "execution_count": 23,
   "metadata": {},
   "outputs": [],
   "source": [
    "xx, yy = np.meshgrid(alpha_list,rho_list)\n"
   ]
  },
  {
   "cell_type": "code",
   "execution_count": 24,
   "metadata": {},
   "outputs": [
    {
     "data": {
      "image/png": "[encoded data removed]",
      "text/plain": [
       "<Figure size 640x480 with 2 Axes>"
      ]
     },
     "metadata": {},
     "output_type": "display_data"
    }
   ],
   "source": [
    "plt.contourf(xx,yy,np.reshape(e_score_train,[21,21]))\n",
    "plt.colorbar(label=\"Score\", orientation='vertical')\n",
    "plt.xlabel('Alpha')\n",
    "plt.ylabel('Rho')\n",
    "plt.xscale(\"log\") #logs x axis"
   ]
  },
  {
   "cell_type": "code",
   "execution_count": 25,
   "metadata": {},
   "outputs": [
    {
     "data": {
      "image/png": "[encoded data removed]",
      "text/plain": [
       "<Figure size 640x480 with 2 Axes>"
      ]
     },
     "metadata": {},
     "output_type": "display_data"
    }
   ],
   "source": [
    "#heat map for validation\n",
    "xx, yy = np.meshgrid(alpha_list,rho_list)\n",
    "plt.contourf(xx,yy,np.reshape(e_score_val,[21,21]))\n",
    "plt.colorbar(label=\"Score\", orientation='vertical')\n",
    "plt.xlabel('Alpha')\n",
    "plt.ylabel('Rho')\n",
    "plt.xscale(\"log\") #logs x axis\n"
   ]
  },
  {
   "cell_type": "code",
   "execution_count": 26,
   "metadata": {},
   "outputs": [],
   "source": [
    "#the elastic net had the best score of 0.732"
   ]
  }
 ],
 "metadata": {
  "kernelspec": {
   "display_name": "Python 3 (ipykernel)",
   "language": "python",
   "name": "python3"
  },
  "language_info": {
   "codemirror_mode": {
    "name": "ipython",
    "version": 3
   },
   "file_extension": ".py",
   "mimetype": "text/x-python",
   "name": "python",
   "nbconvert_exporter": "python",
   "pygments_lexer": "ipython3",
   "version": "3.10.5"
  }
 },
 "nbformat": 4,
 "nbformat_minor": 4
}
